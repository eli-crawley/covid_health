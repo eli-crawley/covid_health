{
 "cells": [
  {
   "cell_type": "code",
   "execution_count": 21,
   "metadata": {},
   "outputs": [],
   "source": [
    "import pandas as pd\n",
    "from pathlib import Path\n",
    "import matplotlib.pyplot as plt\n",
    "import numpy as np\n"
   ]
  },
  {
   "cell_type": "code",
   "execution_count": 22,
   "metadata": {},
   "outputs": [
    {
     "data": {
      "text/html": [
       "<div>\n",
       "<style scoped>\n",
       "    .dataframe tbody tr th:only-of-type {\n",
       "        vertical-align: middle;\n",
       "    }\n",
       "\n",
       "    .dataframe tbody tr th {\n",
       "        vertical-align: top;\n",
       "    }\n",
       "\n",
       "    .dataframe thead th {\n",
       "        text-align: right;\n",
       "    }\n",
       "</style>\n",
       "<table border=\"1\" class=\"dataframe\">\n",
       "  <thead>\n",
       "    <tr style=\"text-align: right;\">\n",
       "      <th></th>\n",
       "      <th>VAERS_ID</th>\n",
       "      <th>RECVDATE</th>\n",
       "      <th>STATE</th>\n",
       "      <th>AGE_YRS</th>\n",
       "      <th>SEX</th>\n",
       "      <th>DIED</th>\n",
       "      <th>DATEDIED</th>\n",
       "      <th>RECOVD</th>\n",
       "      <th>VAX_DATE</th>\n",
       "      <th>ONSET_DATE</th>\n",
       "      <th>NUMDAYS</th>\n",
       "      <th>V_ADMINBY</th>\n",
       "      <th>VAX_MANU</th>\n",
       "      <th>HISTORY</th>\n",
       "      <th>ALLERGIES</th>\n",
       "    </tr>\n",
       "  </thead>\n",
       "  <tbody>\n",
       "    <tr>\n",
       "      <th>0</th>\n",
       "      <td>1021156</td>\n",
       "      <td>2/10/2021</td>\n",
       "      <td>IL</td>\n",
       "      <td>32</td>\n",
       "      <td>F</td>\n",
       "      <td>NaN</td>\n",
       "      <td>NaN</td>\n",
       "      <td>N</td>\n",
       "      <td>1/27/2021</td>\n",
       "      <td>2/4/2021</td>\n",
       "      <td>8.0</td>\n",
       "      <td>SEN</td>\n",
       "      <td>MODERNA</td>\n",
       "      <td>NaN</td>\n",
       "      <td>Nka</td>\n",
       "    </tr>\n",
       "    <tr>\n",
       "      <th>1</th>\n",
       "      <td>1029567</td>\n",
       "      <td>2/14/2021</td>\n",
       "      <td>NH</td>\n",
       "      <td>61</td>\n",
       "      <td>M</td>\n",
       "      <td>NaN</td>\n",
       "      <td>NaN</td>\n",
       "      <td>U</td>\n",
       "      <td>2/14/2021</td>\n",
       "      <td>2/14/2021</td>\n",
       "      <td>0.0</td>\n",
       "      <td>PUB</td>\n",
       "      <td>MODERNA</td>\n",
       "      <td>NaN</td>\n",
       "      <td>NaN</td>\n",
       "    </tr>\n",
       "    <tr>\n",
       "      <th>2</th>\n",
       "      <td>1061353</td>\n",
       "      <td>2/28/2021</td>\n",
       "      <td>WA</td>\n",
       "      <td>74</td>\n",
       "      <td>M</td>\n",
       "      <td>NaN</td>\n",
       "      <td>NaN</td>\n",
       "      <td>N</td>\n",
       "      <td>2/24/2021</td>\n",
       "      <td>2/24/2021</td>\n",
       "      <td>0.0</td>\n",
       "      <td>PUB</td>\n",
       "      <td>PFIZER\\BIONTECH</td>\n",
       "      <td>NaN</td>\n",
       "      <td>sulfa based products</td>\n",
       "    </tr>\n",
       "    <tr>\n",
       "      <th>3</th>\n",
       "      <td>1066793</td>\n",
       "      <td>3/2/2021</td>\n",
       "      <td>AZ</td>\n",
       "      <td>81</td>\n",
       "      <td>M</td>\n",
       "      <td>NaN</td>\n",
       "      <td>NaN</td>\n",
       "      <td>N</td>\n",
       "      <td>2/12/2021</td>\n",
       "      <td>2/26/2021</td>\n",
       "      <td>14.0</td>\n",
       "      <td>PUB</td>\n",
       "      <td>PFIZER\\BIONTECH</td>\n",
       "      <td>NaN</td>\n",
       "      <td>NaN</td>\n",
       "    </tr>\n",
       "    <tr>\n",
       "      <th>4</th>\n",
       "      <td>1219181</td>\n",
       "      <td>4/16/2021</td>\n",
       "      <td>TX</td>\n",
       "      <td>15</td>\n",
       "      <td>M</td>\n",
       "      <td>NaN</td>\n",
       "      <td>NaN</td>\n",
       "      <td>Y</td>\n",
       "      <td>4/15/2021</td>\n",
       "      <td>4/15/2021</td>\n",
       "      <td>0.0</td>\n",
       "      <td>PVT</td>\n",
       "      <td>PFIZER\\BIONTECH</td>\n",
       "      <td>NaN</td>\n",
       "      <td>NaN</td>\n",
       "    </tr>\n",
       "  </tbody>\n",
       "</table>\n",
       "</div>"
      ],
      "text/plain": [
       "   VAERS_ID   RECVDATE STATE  AGE_YRS SEX DIED DATEDIED RECOVD   VAX_DATE  \\\n",
       "0   1021156  2/10/2021    IL       32   F  NaN      NaN      N  1/27/2021   \n",
       "1   1029567  2/14/2021    NH       61   M  NaN      NaN      U  2/14/2021   \n",
       "2   1061353  2/28/2021    WA       74   M  NaN      NaN      N  2/24/2021   \n",
       "3   1066793   3/2/2021    AZ       81   M  NaN      NaN      N  2/12/2021   \n",
       "4   1219181  4/16/2021    TX       15   M  NaN      NaN      Y  4/15/2021   \n",
       "\n",
       "  ONSET_DATE  NUMDAYS V_ADMINBY         VAX_MANU HISTORY             ALLERGIES  \n",
       "0   2/4/2021      8.0       SEN          MODERNA     NaN                   Nka  \n",
       "1  2/14/2021      0.0       PUB          MODERNA     NaN                   NaN  \n",
       "2  2/24/2021      0.0       PUB  PFIZER\\BIONTECH     NaN  sulfa based products  \n",
       "3  2/26/2021     14.0       PUB  PFIZER\\BIONTECH     NaN                   NaN  \n",
       "4  4/15/2021      0.0       PVT  PFIZER\\BIONTECH     NaN                   NaN  "
      ]
     },
     "execution_count": 22,
     "metadata": {},
     "output_type": "execute_result"
    }
   ],
   "source": [
    "# Create a reference the CSV file desired\n",
    "adverse_path = \"./Resources/VAERSDATA1 (3).csv\"\n",
    "\n",
    "# Read the CSV into a Pandas DataFrame\n",
    "adverse = pd.read_csv(adverse_path, low_memory=False)\n",
    "\n",
    "# Print the first five rows of data to the screen\n",
    "adverse.head()\n"
   ]
  },
  {
   "cell_type": "code",
   "execution_count": 23,
   "metadata": {},
   "outputs": [
    {
     "data": {
      "text/plain": [
       "896529"
      ]
     },
     "execution_count": 23,
     "metadata": {},
     "output_type": "execute_result"
    }
   ],
   "source": [
    "# Checking the number of mice.\n",
    "len(adverse[\"VAERS_ID\"].unique())"
   ]
  },
  {
   "cell_type": "code",
   "execution_count": 24,
   "metadata": {},
   "outputs": [
    {
     "data": {
      "text/plain": [
       "(295275, 591719, 9535)"
      ]
     },
     "execution_count": 24,
     "metadata": {},
     "output_type": "execute_result"
    }
   ],
   "source": [
    "# Count occurrences of each gender in the \"SEX\" column\n",
    "gender_counts = adverse[\"SEX\"].value_counts()\n",
    "\n",
    "# Extract counts for male and female\n",
    "male_count = gender_counts.get(\"M\", 0)  # Default to 0 if \"M\" is not present\n",
    "female_count = gender_counts.get(\"F\", 0)  # Default to 0 if \"F\" is not present\n",
    "unknown_count = gender_counts.get(\"U\", 0)  # Default to 0 if \"F\" is not present\n",
    "\n",
    "# Display results\n",
    "male_count, female_count, unknown_count"
   ]
  },
  {
   "cell_type": "code",
   "execution_count": 25,
   "metadata": {},
   "outputs": [
    {
     "data": {
      "image/png": "[encoded data removed]",
      "text/plain": [
       "<Figure size 800x500 with 1 Axes>"
      ]
     },
     "metadata": {},
     "output_type": "display_data"
    }
   ],
   "source": [
    "# Define labels and values for the bar chart\n",
    "labels = [\"Male\", \"Female\", \"Unknown\"]\n",
    "values = [male_count, female_count, unknown_count]\n",
    "\n",
    "# Create a bar chart\n",
    "plt.figure(figsize=(8, 5))\n",
    "plt.bar(labels, values)\n",
    "\n",
    "# Add title and labels\n",
    "plt.title(\"Gender Distribution in Adverse Dataset\")\n",
    "plt.xlabel(\"Gender\")\n",
    "plt.ylabel(\"Count\")\n",
    "\n",
    "# Save the figure\n",
    "plt.savefig(\"gender_distribution.png\", format='png', dpi=300)  # Save as PNG\n",
    "\n",
    "# Show the chart\n",
    "plt.show()"
   ]
  },
  {
   "cell_type": "code",
   "execution_count": 26,
   "metadata": {},
   "outputs": [
    {
     "data": {
      "text/plain": [
       "(3.3765134196935063, 1.1544331008468547, 1.101206082852648)"
      ]
     },
     "execution_count": 26,
     "metadata": {},
     "output_type": "execute_result"
    }
   ],
   "source": [
    "# Count the number of deaths by gender\n",
    "death_counts = adverse[adverse[\"DIED\"] == \"Y\"][\"SEX\"].value_counts()\n",
    "\n",
    "# Extract counts for male, female, and unknown\n",
    "male_death_count = death_counts.get(\"M\", 0)\n",
    "female_death_count = death_counts.get(\"F\", 0)\n",
    "unknown_death_count = death_counts.get(\"U\", 0)\n",
    "\n",
    "# Calculate death rates for each gender\n",
    "male_death_rate = (male_death_count / male_count) * 100 if male_count > 0 else 0\n",
    "female_death_rate = (female_death_count / female_count) * 100 if female_count > 0 else 0\n",
    "unknown_death_rate = (unknown_death_count / unknown_count) * 100 if unknown_count > 0 else 0\n",
    "\n",
    "# Display results\n",
    "male_death_rate, female_death_rate, unknown_death_rate"
   ]
  },
  {
   "cell_type": "code",
   "execution_count": 27,
   "metadata": {},
   "outputs": [
    {
     "data": {
      "image/png": "[encoded data removed]",
      "text/plain": [
       "<Figure size 800x500 with 1 Axes>"
      ]
     },
     "metadata": {},
     "output_type": "display_data"
    }
   ],
   "source": [
    "# Define labels and values for the death rate bar chart\n",
    "labels = [\"Male\", \"Female\", \"Unknown\"]\n",
    "death_rates = [male_death_rate, female_death_rate, unknown_death_rate]\n",
    "\n",
    "# Create a bar chart\n",
    "plt.figure(figsize=(8, 5))\n",
    "plt.bar(labels, death_rates, color='red')\n",
    "\n",
    "# Add title and labels\n",
    "plt.title(\"Death Rate by Gender in Adverse Dataset\")\n",
    "plt.xlabel(\"Gender\")\n",
    "plt.ylabel(\"Death Rate (%)\")\n",
    "\n",
    "# Save the figure\n",
    "plt.savefig(\"gender_death_rate.png\", format='png', dpi=300)  # Save as PNG\n",
    "\n",
    "# Show the chart\n",
    "plt.show()\n"
   ]
  }
 ],
 "metadata": {
  "kernelspec": {
   "display_name": "dev",
   "language": "python",
   "name": "python3"
  },
  "language_info": {
   "codemirror_mode": {
    "name": "ipython",
    "version": 3
   },
   "file_extension": ".py",
   "mimetype": "text/x-python",
   "name": "python",
   "nbconvert_exporter": "python",
   "pygments_lexer": "ipython3",
   "version": "3.10.16"
  }
 },
 "nbformat": 4,
 "nbformat_minor": 2
}
